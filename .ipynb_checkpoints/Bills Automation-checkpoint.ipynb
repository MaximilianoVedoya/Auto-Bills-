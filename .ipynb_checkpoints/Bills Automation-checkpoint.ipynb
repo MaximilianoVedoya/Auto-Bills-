{
 "cells": [
  {
   "cell_type": "code",
   "execution_count": null,
   "metadata": {},
   "outputs": [],
   "source": []
  },
  {
   "cell_type": "code",
   "execution_count": 46,
   "metadata": {},
   "outputs": [
    {
     "name": "stdout",
     "output_type": "stream",
     "text": [
      " El importe total de la factura es: 1,745.45\n",
      "La factura corresponde a: Pinturas\n"
     ]
    }
   ],
   "source": [
    "import pytesseract\n",
    "from PIL import Image\n",
    "import re \n",
    "pytesseract.pytesseract.tesseract_cmd = r'C:\\Program Files (x86)\\Tesseract-OCR\\tesseract.exe'\n",
    "img=Image.open('Test2.PNG')\n",
    "string=pytesseract.image_to_string(img)\n",
    "results=re.search(r'Importe Total\\D*(\\d*)\\D(\\d+)',string)\n",
    "results.groups()\n",
    "print(f' El importe total de la factura es: {results.group(1)},{int(results.group(2))/100}')\n",
    "if string.find('EMPRESA')!=-1:\n",
    "    print(f'La factura corresponde a: Pinturas')\n",
    "# print(string)"
   ]
  },
  {
   "cell_type": "code",
   "execution_count": null,
   "metadata": {},
   "outputs": [],
   "source": []
  },
  {
   "cell_type": "code",
   "execution_count": null,
   "metadata": {},
   "outputs": [],
   "source": []
  },
  {
   "cell_type": "code",
   "execution_count": null,
   "metadata": {},
   "outputs": [],
   "source": []
  }
 ],
 "metadata": {
  "kernelspec": {
   "display_name": "Python 3",
   "language": "python",
   "name": "python3"
  },
  "language_info": {
   "codemirror_mode": {
    "name": "ipython",
    "version": 3
   },
   "file_extension": ".py",
   "mimetype": "text/x-python",
   "name": "python",
   "nbconvert_exporter": "python",
   "pygments_lexer": "ipython3",
   "version": "3.7.4"
  }
 },
 "nbformat": 4,
 "nbformat_minor": 2
}
