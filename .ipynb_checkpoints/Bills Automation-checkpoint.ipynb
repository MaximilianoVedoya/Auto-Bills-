{
 "cells": [
  {
   "cell_type": "markdown",
   "metadata": {},
   "source": [
    "<h1>Personal project to read and clasify bills</h1>"
   ]
  },
  {
   "cell_type": "markdown",
   "metadata": {},
   "source": [
    "<li>Rossum API (Software to read invoices)</li>\n",
    "\n",
    "<li>maximilianovedoya@gmail.com M@xi200122</li>\n"
   ]
  },
  {
   "cell_type": "code",
   "execution_count": 137,
   "metadata": {},
   "outputs": [],
   "source": [
    "#it works but the BIGO is pretty bad."
   ]
  },
  {
   "cell_type": "code",
   "execution_count": 150,
   "metadata": {
    "scrolled": true
   },
   "outputs": [],
   "source": [
    "import string\n",
    "import pytesseract\n",
    "from PIL import Image\n",
    "pytesseract.pytesseract.tesseract_cmd = r'C:\\Program Files (x86)\\Tesseract-OCR\\tesseract.exe'\n",
    "\n",
    "import os\n",
    "from os import listdir\n",
    "from os.path import isfile, join\n",
    "\n",
    "#temporary fix\n",
    "if 'TestFiles' in os.getcwd():\n",
    "    os.chdir('..')\n",
    "\n",
    "files = [f for f in listdir('TestFiles') if isfile(join('TestFiles', f))]\n",
    "data=list()\n",
    "os.chdir('TestFiles')\n",
    "for file in files:\n",
    "    img=Image.open(file)\n",
    "    text=pytesseract.image_to_string(img,lang='spa')\n",
    "    striptext = text.replace('\\n\\n', ' ')\n",
    "    striptext = striptext.replace('\\n', ' ')\n",
    "    striptext=striptext.lower()\n",
    "    data.append(striptext)"
   ]
  },
  {
   "cell_type": "code",
   "execution_count": 139,
   "metadata": {},
   "outputs": [],
   "source": [
    "def extratcor(striptext):\n",
    "    import re \n",
    "    data={ 'iva':None,\n",
    "           'fecha':None,\n",
    "           'total':None,\n",
    "           'empresa':None,\n",
    "           'keywords':None,\n",
    "          }\n",
    "    \n",
    "    keywords=['encomiendas','pasajes','boletos','latex','pincel']\n",
    "    \n",
    "    iva=r'21,00\\s*%|21\\s*%|exento|10,50\\s*%'\n",
    "    iva=re.search(iva,striptext)\n",
    "    if iva:\n",
    "        data['iva']=iva.group(0)\n",
    "    \n",
    "    importe=r'[total].*\\$?\\s+(\\d+,?.?\\d+.?\\d{2})'\n",
    "    importe=re.search(importe,striptext)\n",
    "    if importe:\n",
    "        data['total']=importe.group(1)\n",
    "\n",
    "    fecha=r'\\s+(\\d{2}/\\d{2}/\\d{2})'\n",
    "    fecha=re.search(fecha,striptext)\n",
    "    if fecha:\n",
    "        data['fecha']=fecha.group(1)\n",
    "\n",
    "    tipos=['s.r.l','srl','s.a','sa','s.a.s','sas']\n",
    "    for tipo in tipos:\n",
    "        empresa=r'(\\w+\\s*\\w*\\s*\\w*\\s*\\w*)\\s+'+tipo\n",
    "        empresa=re.search(empresa,striptext)\n",
    "        if empresa:\n",
    "            data['empresa']=empresa.group(0)\n",
    "    \n",
    "    import string\n",
    "    from nltk import word_tokenize\n",
    "    text=word_tokenize(striptext)\n",
    "    clean=[word for word in text if word not in nltk.corpus.stopwords.words(\"spanish\")]\n",
    "    clean=[word for word in clean if word not in string.punctuation]\n",
    "    \n",
    "    #matches against keywords or fuzzzy keywords inside the text.\n",
    "    from fuzzywuzzy import fuzz\n",
    "    temp_=list()\n",
    "    for word in clean:\n",
    "        for keyword in keywords:\n",
    "            if fuzz.ratio(word, keyword)>70:\n",
    "                temp_.append(word)\n",
    "    if temp_:\n",
    "        data['keywords']=temp_\n",
    "    \n",
    "    return data"
   ]
  },
  {
   "cell_type": "code",
   "execution_count": 142,
   "metadata": {},
   "outputs": [],
   "source": [
    "temp_=list()\n",
    "for bill in data:\n",
    "    temp_.append(extratcor(bill))"
   ]
  },
  {
   "cell_type": "code",
   "execution_count": 149,
   "metadata": {},
   "outputs": [
    {
     "data": {
      "text/html": [
       "<div>\n",
       "<style scoped>\n",
       "    .dataframe tbody tr th:only-of-type {\n",
       "        vertical-align: middle;\n",
       "    }\n",
       "\n",
       "    .dataframe tbody tr th {\n",
       "        vertical-align: top;\n",
       "    }\n",
       "\n",
       "    .dataframe thead th {\n",
       "        text-align: right;\n",
       "    }\n",
       "</style>\n",
       "<table border=\"1\" class=\"dataframe\">\n",
       "  <thead>\n",
       "    <tr style=\"text-align: right;\">\n",
       "      <th></th>\n",
       "      <th>iva</th>\n",
       "      <th>fecha</th>\n",
       "      <th>total</th>\n",
       "      <th>empresa</th>\n",
       "      <th>keywords</th>\n",
       "    </tr>\n",
       "  </thead>\n",
       "  <tbody>\n",
       "    <tr>\n",
       "      <td>0</td>\n",
       "      <td>21%</td>\n",
       "      <td>29/02/20</td>\n",
       "      <td>22,800.00</td>\n",
       "      <td>empresa rio uruguay s.r.l</td>\n",
       "      <td>[encomtendas]</td>\n",
       "    </tr>\n",
       "    <tr>\n",
       "      <td>1</td>\n",
       "      <td>exento</td>\n",
       "      <td>05/04/20</td>\n",
       "      <td>10,560.00</td>\n",
       "      <td>empresas asociadas central argentino srl</td>\n",
       "      <td>[boletos, pasajes, boletos]</td>\n",
       "    </tr>\n",
       "    <tr>\n",
       "      <td>2</td>\n",
       "      <td>exento</td>\n",
       "      <td>05/04/20</td>\n",
       "      <td>10,560.00</td>\n",
       "      <td>empresas asociadas central argentino srl</td>\n",
       "      <td>[boletos, pasajes, boletos]</td>\n",
       "    </tr>\n",
       "    <tr>\n",
       "      <td>3</td>\n",
       "      <td>21,00 %</td>\n",
       "      <td>23/02/20</td>\n",
       "      <td>302,93</td>\n",
       "      <td>empresa s.a</td>\n",
       "      <td>None</td>\n",
       "    </tr>\n",
       "  </tbody>\n",
       "</table>\n",
       "</div>"
      ],
      "text/plain": [
       "       iva     fecha      total                                   empresa  \\\n",
       "0      21%  29/02/20  22,800.00                 empresa rio uruguay s.r.l   \n",
       "1   exento  05/04/20  10,560.00  empresas asociadas central argentino srl   \n",
       "2   exento  05/04/20  10,560.00  empresas asociadas central argentino srl   \n",
       "3  21,00 %  23/02/20     302,93                               empresa s.a   \n",
       "\n",
       "                      keywords  \n",
       "0                [encomtendas]  \n",
       "1  [boletos, pasajes, boletos]  \n",
       "2  [boletos, pasajes, boletos]  \n",
       "3                         None  "
      ]
     },
     "execution_count": 149,
     "metadata": {},
     "output_type": "execute_result"
    }
   ],
   "source": [
    "import pandas as pd \n",
    "df=pd.DataFrame(temp_)\n",
    "df"
   ]
  },
  {
   "cell_type": "code",
   "execution_count": null,
   "metadata": {},
   "outputs": [],
   "source": []
  },
  {
   "cell_type": "markdown",
   "metadata": {},
   "source": [
    "<h3>This is a try to capture in a easier ways the \"kweywords I need\"</h3>"
   ]
  },
  {
   "cell_type": "code",
   "execution_count": 123,
   "metadata": {},
   "outputs": [],
   "source": [
    "# import string\n",
    "# from nltk import word_tokenize\n",
    "# text=word_tokenize(data[0])\n",
    "# clean=[word for word in text if word not in nltk.corpus.stopwords.words(\"spanish\")]\n",
    "# clean=[word for word in clean if word not in string.punctuation]\n",
    "# clean"
   ]
  },
  {
   "cell_type": "code",
   "execution_count": 136,
   "metadata": {},
   "outputs": [],
   "source": [
    "# from fuzzywuzzy import fuzz\n",
    "# fuzz.ratio('e3comte3da', 'encomienda')"
   ]
  },
  {
   "cell_type": "code",
   "execution_count": null,
   "metadata": {},
   "outputs": [],
   "source": []
  }
 ],
 "metadata": {
  "kernelspec": {
   "display_name": "Python 3",
   "language": "python",
   "name": "python3"
  },
  "language_info": {
   "codemirror_mode": {
    "name": "ipython",
    "version": 3
   },
   "file_extension": ".py",
   "mimetype": "text/x-python",
   "name": "python",
   "nbconvert_exporter": "python",
   "pygments_lexer": "ipython3",
   "version": "3.7.4"
  }
 },
 "nbformat": 4,
 "nbformat_minor": 2
}
