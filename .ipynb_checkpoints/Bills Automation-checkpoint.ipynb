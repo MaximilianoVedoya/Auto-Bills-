{
 "cells": [
  {
   "cell_type": "markdown",
   "metadata": {},
   "source": [
    "<h1>Personal project to read and clasify bills</h1>"
   ]
  },
  {
   "cell_type": "markdown",
   "metadata": {},
   "source": [
    "<li>Rossum API (Software to read invoices)</li>\n",
    "\n",
    "<li>maximilianovedoya@gmail.com M@xi200122</li>\n"
   ]
  },
  {
   "cell_type": "code",
   "execution_count": 84,
   "metadata": {
    "scrolled": true
   },
   "outputs": [
    {
     "name": "stdout",
     "output_type": "stream",
     "text": [
      "factura t nro. comp.: 0001-00000075   fecha de emisión: 23/02/2016   razón social: empresa s.a. responsable inscripto cuit: 202871701341 dir: belgrano 1010 capital federal        tel: 11 25070645 ing. brutos: 30-22222222-9 inicio actividad: 01/01/2010                                      cliente: -. solsrl resp. iva: responsable inscripto dirección: -san marin 587 captal federal, buenos ares exar: - sota condición de venta: contado cantidad. | u medida | - precio unit.. | % bonif ton seso uatexinterior e. 200 sisas . oso - 21.00% 127 a 500 erg - oso - 200% 40828 -- crasas importe neto gravado: 1.442,52 importe total: $ 1.745,45 iva 21,00 %: 302,93   son: un mil setecientos cuarenta y cinco con 45\n"
     ]
    }
   ],
   "source": [
    "import string\n",
    "import pytesseract\n",
    "from PIL import Image\n",
    "import re \n",
    "\n",
    "pytesseract.pytesseract.tesseract_cmd = r'C:\\Program Files (x86)\\Tesseract-OCR\\tesseract.exe'\n",
    "img=Image.open('Test2.PNG')\n",
    "text=pytesseract.image_to_string(img,lang='spa')\n",
    "striptext = text.replace('\\n\\n', ' ')\n",
    "striptext = striptext.replace('\\n', ' ')\n",
    "striptext=striptext.lower()\n",
    "print(striptext)"
   ]
  },
  {
   "cell_type": "code",
   "execution_count": 82,
   "metadata": {},
   "outputs": [],
   "source": [
    "# from nltk.tokenize import word_tokenize\n",
    "# from nltk.tokenize import sent_tokenize\n",
    "# words = word_tokenize(striptext)\n",
    "# lowercase_words = [word.lower() for word in words]\n",
    "# for word in lowercase_words:\n",
    "#     striptext+=word\n",
    "# print(striptext)"
   ]
  },
  {
   "cell_type": "code",
   "execution_count": 91,
   "metadata": {},
   "outputs": [
    {
     "name": "stdout",
     "output_type": "stream",
     "text": [
      "21.00\n",
      "1.745,45\n",
      "23/02/20\n",
      "empresa\n"
     ]
    }
   ],
   "source": [
    "import re \n",
    "iva=r'(?P<iva>\\d{2}.?,?\\d{2})%'\n",
    "iva=re.search(iva,striptext)\n",
    "if iva:\n",
    "    print(iva.group('iva'))\n",
    "\n",
    "importe=r'\\$\\s*(\\d*.\\d+,\\d{2})'\n",
    "importe=re.search(importe,striptext)\n",
    "if importe:\n",
    "    print(importe.group(1))\n",
    "    \n",
    "    \n",
    "fecha=r'\\s+(\\d{2}/\\d{2}/\\d{2})'\n",
    "fecha=re.search(fecha,striptext)\n",
    "if fecha:\n",
    "    print(fecha.group(1))\n",
    "    \n",
    "\n",
    "for tipo in tipos:\n",
    "    empresa=r'(\\w+)\\s+'+tipo\n",
    "    empresa=re.search(empresa,striptext)\n",
    "    if empresa:\n",
    "        print(empresa.group(1))"
   ]
  },
  {
   "cell_type": "code",
   "execution_count": null,
   "metadata": {},
   "outputs": [],
   "source": []
  },
  {
   "cell_type": "code",
   "execution_count": null,
   "metadata": {},
   "outputs": [],
   "source": []
  }
 ],
 "metadata": {
  "kernelspec": {
   "display_name": "Python 3",
   "language": "python",
   "name": "python3"
  },
  "language_info": {
   "codemirror_mode": {
    "name": "ipython",
    "version": 3
   },
   "file_extension": ".py",
   "mimetype": "text/x-python",
   "name": "python",
   "nbconvert_exporter": "python",
   "pygments_lexer": "ipython3",
   "version": "3.7.4"
  }
 },
 "nbformat": 4,
 "nbformat_minor": 2
}
