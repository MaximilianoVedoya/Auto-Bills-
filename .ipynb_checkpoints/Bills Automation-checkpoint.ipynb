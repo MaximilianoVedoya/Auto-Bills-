{
 "cells": [
  {
   "cell_type": "markdown",
   "metadata": {},
   "source": [
    "<h1>Personal project to read and clasify bills</h1>"
   ]
  },
  {
   "cell_type": "markdown",
   "metadata": {},
   "source": [
    "<li>Rossum API (Software to read invoices)</li>\n",
    "\n",
    "<li>maximilianovedoya@gmail.com M@xi200122</li>\n"
   ]
  },
  {
   "cell_type": "code",
   "execution_count": null,
   "metadata": {
    "scrolled": true
   },
   "outputs": [],
   "source": [
    "import string\n",
    "import pytesseract\n",
    "from PIL import Image\n",
    "pytesseract.pytesseract.tesseract_cmd = r'C:\\Program Files (x86)\\Tesseract-OCR\\tesseract.exe'\n",
    "\n",
    "#reads the name of files in directory\n",
    "import os\n",
    "from os import listdir\n",
    "from os.path import isfile, join\n",
    "\n",
    "\n",
    "os.chdir('..')\n",
    "files = [f for f in listdir('TestFiles') if isfile(join('TestFiles', f))]\n",
    "\n",
    "data=list()\n",
    "os.chdir('TestFiles')\n",
    "for file in files:\n",
    "    img=Image.open(file)\n",
    "    text=pytesseract.image_to_string(img,lang='spa')\n",
    "    striptext = text.replace('\\n\\n', ' ')\n",
    "    striptext = striptext.replace('\\n', ' ')\n",
    "    striptext=striptext.lower()\n",
    "    data.append(striptext)\n",
    "    \n",
    "data"
   ]
  },
  {
   "cell_type": "code",
   "execution_count": 53,
   "metadata": {},
   "outputs": [
    {
     "name": "stdout",
     "output_type": "stream",
     "text": [
      "{'iva': None, 'fecha': '05/04/20', 'total': '10,560.00', 'empresa': 'asociadas central argentino srl'}\n"
     ]
    }
   ],
   "source": [
    "def extratcor(striptext):\n",
    "    import re \n",
    "    data={ 'iva':None,\n",
    "           'fecha':None,\n",
    "           'total':None,\n",
    "           'empresa':None,\n",
    "          }\n",
    "    \n",
    "    iva=r'(\\d{2}.?[\\d{2}]?)%'\n",
    "    iva=re.search(iva,striptext)\n",
    "    if iva:\n",
    "        data['iva']=iva.group(0)\n",
    "\n",
    "    importe=r'[total]?.*\\$?\\s+(\\d+,\\d+.?\\d{2})'\n",
    "    importe=re.search(importe,striptext)\n",
    "    if importe:\n",
    "        data['total']=importe.group(1)\n",
    "\n",
    "    fecha=r'\\s+(\\d{2}/\\d{2}/\\d{2})'\n",
    "    fecha=re.search(fecha,striptext)\n",
    "    if fecha:\n",
    "        data['fecha']=fecha.group(1)\n",
    "\n",
    "    tipos=['s.r.l','srl','s.a','sa','s.a.s','sas']\n",
    "    for tipo in tipos:\n",
    "        empresa=r'(\\w+\\s*\\w*\\s*\\w*)\\s+'+tipo\n",
    "        empresa=re.search(empresa,striptext)\n",
    "        if empresa:\n",
    "            data['empresa']=empresa.group(0)\n",
    "    return data\n",
    "\n"
   ]
  },
  {
   "cell_type": "code",
   "execution_count": null,
   "metadata": {},
   "outputs": [],
   "source": []
  },
  {
   "cell_type": "code",
   "execution_count": null,
   "metadata": {},
   "outputs": [],
   "source": []
  }
 ],
 "metadata": {
  "kernelspec": {
   "display_name": "Python 3",
   "language": "python",
   "name": "python3"
  },
  "language_info": {
   "codemirror_mode": {
    "name": "ipython",
    "version": 3
   },
   "file_extension": ".py",
   "mimetype": "text/x-python",
   "name": "python",
   "nbconvert_exporter": "python",
   "pygments_lexer": "ipython3",
   "version": "3.7.4"
  }
 },
 "nbformat": 4,
 "nbformat_minor": 2
}
