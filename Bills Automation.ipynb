{
 "cells": [
  {
   "cell_type": "markdown",
   "metadata": {},
   "source": [
    "<h1>Personal project to read and clasify bills</h1>"
   ]
  },
  {
   "cell_type": "markdown",
   "metadata": {},
   "source": [
    "<li>Rossum API (Software to read invoices)</li>\n",
    "\n",
    "<li>maximilianovedoya@gmail.com M@xi200122</li>\n"
   ]
  },
  {
   "cell_type": "code",
   "execution_count": 81,
   "metadata": {
    "scrolled": true
   },
   "outputs": [
    {
     "data": {
      "text/plain": [
       "['empresa rio uruguay s.r.l. tipo de comprobante: 001 fecha: 29/02/2020 control: a00026-00000546 cdte andresito no34 tel. (03752456513 /518 apostoles - misiones factura \"a\" original . y cuit 30-68784108-1 conv. mult 914-530856-6 iva - responsable inscripto fecha de incio: 20/02/1996 señor (es) -enriquez albano ute coronel lopez 3311 3300 - posadas iva responsable inscripto cuit: 30-68324913-7 condicion de vta: cuenta corriente cantidad descripcion p. unitario importe 1.00 por servicio de encomtendas. 18,341.24 8,341.24 306878410810010002670101909139550202003105 cae nro: 70101909139550 vto. cae: 10/03/2020 observaciones: subtotal 18,341.24 iva 21% 3,851.66 p. iibb mnes 3.31 607.10 rg3450 total 22,800.00',\n",
       " 'empresas asociadas central argentino srl y tipo de comprobante: 06 el dorado srl fecha: 05/04/2019 control: b0030-00000044 comandante andresito nro 34 apostoles - misiones - cp 3350 factura - \"b\" original cuit: 30-56468014-8 conv. mult.: - 914-530921-6 iva - responsable inscripto fecha de inic.: 01/1999   señor(es) :corporación empresas inmobiliarias de rosario cordoba 1868 2000 - rosario iva exento cuit: 30-67691708-6 condicion de vta: cuenta corriente cantidad descripcion p. unitario importe - 2,640. 5,230 . dia 27/03/2019 boletos 93106430 - 93106802 2.00 pasajes posadas - rosario 2,640.00 5,280.00 dia__30/03/2019 boletos 93106431 - 93106803 observaciones:                                                           3056468014806003069158957942521201904155 cae nro: 69158957942521 vto. cae: 15/04/2019                                                                                                                                       subtotal 10,560.00 perc. |iibb mnes   total 10,560.00',\n",
       " 'empresas asociadas central argentino srl y tipo de comprobante: 06 el dorado srl fecha: 05/04/2019 control: b0030-00000044 comandante andresito nro 34 apostoles - misiones - cp 3350 factura - \"b\" duplicado cuit: 30-56468014-8 conv. mult.: - 914-530921-6 iva - responsable inscripto fecha de inic.: 01/1999   señor(es) :corporación empresas inmobiliarias de rosario cordoba 1868 2000 - rosario iva exento cuit: 30-67691708-6 condicion de vta: cuenta corriente cantidad descripcion p. unitario importe - 2,640. 5,230 . dia 27/03/2019 boletos 93106430 - 93106802 2.00 pasajes posadas - rosario 2,640.00 5,280.00 dia__30/03/2019 boletos 93106431 - 93106803 observaciones:                                                           3056468014806003069158957942521201904155 cae nro: 69158957942521 vto. cae: 15/04/2019                                                                                                                                       subtotal 10,560.00 perc. |iibb mnes   total 10,560.00',\n",
       " 'factura t nro. comp.: 0001-00000075   fecha de emisión: 23/02/2016   razón social: empresa s.a. responsable inscripto cuit: 202871701341 dir: belgrano 1010 capital federal        tel: 11 25070645 ing. brutos: 30-22222222-9 inicio actividad: 01/01/2010                                      cliente: -. solsrl resp. iva: responsable inscripto dirección: -san marin 587 captal federal, buenos ares exar: - sota condición de venta: contado cantidad. | u medida | - precio unit.. | % bonif ton seso uatexinterior e. 200 sisas . oso - 21.00% 127 a 500 erg - oso - 200% 40828 -- crasas importe neto gravado: 1.442,52 importe total: $ 1.745,45 iva 21,00 %: 302,93   son: un mil setecientos cuarenta y cinco con 45']"
      ]
     },
     "execution_count": 81,
     "metadata": {},
     "output_type": "execute_result"
    }
   ],
   "source": [
    "import string\n",
    "import pytesseract\n",
    "from PIL import Image\n",
    "pytesseract.pytesseract.tesseract_cmd = r'C:\\Program Files (x86)\\Tesseract-OCR\\tesseract.exe'\n",
    "\n",
    "import os\n",
    "from os import listdir\n",
    "from os.path import isfile, join\n",
    "\n",
    "if 'TestFiles' in os.getcwd():\n",
    "    os.chdir('..')\n",
    "files = [f for f in listdir('TestFiles') if isfile(join('TestFiles', f))]\n",
    "\n",
    "data=list()\n",
    "os.chdir('TestFiles')\n",
    "for file in files:\n",
    "    img=Image.open(file)\n",
    "    text=pytesseract.image_to_string(img,lang='spa')\n",
    "    striptext = text.replace('\\n\\n', ' ')\n",
    "    striptext = striptext.replace('\\n', ' ')\n",
    "    striptext=striptext.lower()\n",
    "    data.append(striptext)\n",
    "    \n",
    "# data"
   ]
  },
  {
   "cell_type": "code",
   "execution_count": 53,
   "metadata": {},
   "outputs": [
    {
     "name": "stdout",
     "output_type": "stream",
     "text": [
      "{'iva': None, 'fecha': '05/04/20', 'total': '10,560.00', 'empresa': 'asociadas central argentino srl'}\n"
     ]
    }
   ],
   "source": [
    "def extratcor(striptext):\n",
    "    import re \n",
    "    data={ 'iva':None,\n",
    "           'fecha':None,\n",
    "           'total':None,\n",
    "           'empresa':None,\n",
    "          }\n",
    "    iva=r'(\\d{2}.?[\\d{2}]?)%'\n",
    "    iva=re.search(iva,striptext)\n",
    "    if iva:\n",
    "        data['iva']=iva.group(0)\n",
    "    importe=r'[total]?.*\\$?\\s+(\\d+,\\d+.?\\d{2})'\n",
    "    importe=re.search(importe,striptext)\n",
    "    if importe:\n",
    "        data['total']=importe.group(1)\n",
    "\n",
    "    fecha=r'\\s+(\\d{2}/\\d{2}/\\d{2})'\n",
    "    fecha=re.search(fecha,striptext)\n",
    "    if fecha:\n",
    "        data['fecha']=fecha.group(1)\n",
    "\n",
    "    tipos=['s.r.l','srl','s.a','sa','s.a.s','sas']\n",
    "    for tipo in tipos:\n",
    "        empresa=r'(\\w+\\s*\\w*\\s*\\w*)\\s+'+tipo\n",
    "        empresa=re.search(empresa,striptext)\n",
    "        if empresa:\n",
    "            data['empresa']=empresa.group(0)\n",
    "    return data\n",
    "\n"
   ]
  },
  {
   "cell_type": "code",
   "execution_count": 83,
   "metadata": {},
   "outputs": [
    {
     "name": "stdout",
     "output_type": "stream",
     "text": [
      "{'iva': '21%', 'fecha': '29/02/20', 'total': '22,800.00', 'empresa': 'empresa rio uruguay s.r.l'}\n",
      "{'iva': None, 'fecha': '05/04/20', 'total': '10,560.00', 'empresa': 'asociadas central argentino srl'}\n",
      "{'iva': None, 'fecha': '05/04/20', 'total': '10,560.00', 'empresa': 'asociadas central argentino srl'}\n",
      "{'iva': '00%', 'fecha': '23/02/20', 'total': None, 'empresa': 'empresa s.a'}\n"
     ]
    }
   ],
   "source": [
    "for bill in data:\n",
    "    print(extratcor(bill))"
   ]
  },
  {
   "cell_type": "code",
   "execution_count": null,
   "metadata": {},
   "outputs": [],
   "source": []
  },
  {
   "cell_type": "code",
   "execution_count": null,
   "metadata": {},
   "outputs": [],
   "source": []
  }
 ],
 "metadata": {
  "kernelspec": {
   "display_name": "Python 3",
   "language": "python",
   "name": "python3"
  },
  "language_info": {
   "codemirror_mode": {
    "name": "ipython",
    "version": 3
   },
   "file_extension": ".py",
   "mimetype": "text/x-python",
   "name": "python",
   "nbconvert_exporter": "python",
   "pygments_lexer": "ipython3",
   "version": "3.7.4"
  }
 },
 "nbformat": 4,
 "nbformat_minor": 2
}
