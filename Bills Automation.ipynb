{
 "cells": [
  {
   "cell_type": "code",
   "execution_count": null,
   "metadata": {},
   "outputs": [],
   "source": []
  },
  {
   "cell_type": "code",
   "execution_count": 76,
   "metadata": {
    "scrolled": true
   },
   "outputs": [
    {
     "name": "stdout",
     "output_type": "stream",
     "text": [
      "FACTURA T\n",
      "\n",
      "Nro. Comp.: 0001-00000075\n",
      "\n",
      " \n",
      "\n",
      "Fecha de Emisión: 23/02/2016\n",
      "\n",
      " \n",
      "\n",
      "Razón Social: EMPRESA S.A. Responsable Inscripto CUIT: 202871701341\n",
      "\n",
      "Dir: Belgrano 1010 Capital Federal\n",
      "\n",
      "      \n",
      "\n",
      "Tel: 11 25070645 Ing. Brutos: 30-22222222-9 Inicio Actividad: 01/01/2010\n",
      "\n",
      "  \n",
      "\n",
      " \n",
      "\n",
      "    \n",
      "        \n",
      "     \n",
      "\n",
      " \n",
      "\n",
      "     \n",
      "\n",
      " \n",
      "\n",
      " \n",
      "\n",
      "Cliente: -. SOLSRL Resp. IVA: Responsable Inscripto\n",
      "Dirección: -San Marin 587 Captal Federal, Buenos Ares exar: - sota Condición de Venta: Contado\n",
      "Cantidad. | U Medida | - Precio Unit.. | % Bonif ton\n",
      "seso uatexiNterior e. 200 sisas . oso - 21.00% 127\n",
      "a 500 erg - oso - 200% 40828\n",
      "-- crasas\n",
      "Importe Neto Gravado: 1.442,52 Importe Total: $ 1.745,45\n",
      "\n",
      "IVA 21,00 %: 302,93\n",
      "\n",
      " \n",
      "\n",
      "Son: un mil setecientos cuarenta y cinco con 45\n",
      "nada\n"
     ]
    }
   ],
   "source": [
    "import pytesseract\n",
    "from PIL import Image\n",
    "import re \n",
    "pytesseract.pytesseract.tesseract_cmd = r'C:\\Program Files (x86)\\Tesseract-OCR\\tesseract.exe'\n",
    "img=Image.open('Test2.PNG')\n",
    "string=pytesseract.image_to_string(img,lang='spa')\n",
    "# results=re.search(r'Importe Total\\D*(\\d*)\\D(\\d+)',string)\n",
    "# results.groups()\n",
    "# print(f' El importe total de la factura es: {results.group(1)},{int(results.group(2))/100}')\n",
    "# if string.find('EMPRESA')!=-1:\n",
    "#     print(f'La factura corresponde a: Pinturas')\n",
    "print(string)\n",
    "print('nada')"
   ]
  },
  {
   "cell_type": "code",
   "execution_count": null,
   "metadata": {},
   "outputs": [],
   "source": []
  },
  {
   "cell_type": "code",
   "execution_count": null,
   "metadata": {},
   "outputs": [],
   "source": []
  },
  {
   "cell_type": "code",
   "execution_count": null,
   "metadata": {},
   "outputs": [],
   "source": []
  }
 ],
 "metadata": {
  "kernelspec": {
   "display_name": "Python 3",
   "language": "python",
   "name": "python3"
  },
  "language_info": {
   "codemirror_mode": {
    "name": "ipython",
    "version": 3
   },
   "file_extension": ".py",
   "mimetype": "text/x-python",
   "name": "python",
   "nbconvert_exporter": "python",
   "pygments_lexer": "ipython3",
   "version": "3.7.4"
  }
 },
 "nbformat": 4,
 "nbformat_minor": 2
}
